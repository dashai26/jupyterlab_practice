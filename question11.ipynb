{
 "cells": [
  {
   "cell_type": "markdown",
   "id": "daf00b66-caf4-4594-ac13-1d30e70d4c88",
   "metadata": {},
   "source": [
    "# Daria Iskakova"
   ]
  },
  {
   "cell_type": "markdown",
   "id": "61765647-9d15-4000-a4aa-00e68ef2693c",
   "metadata": {},
   "source": [
    "Notebook for assignment 7"
   ]
  },
  {
   "cell_type": "code",
   "execution_count": 13,
   "id": "b29ea6c8-d3db-429c-a006-b1fc368ccb78",
   "metadata": {},
   "outputs": [],
   "source": [
    "import numpy as np"
   ]
  },
  {
   "cell_type": "code",
   "execution_count": 16,
   "id": "cacf325f-71ef-478e-b318-3597db100d81",
   "metadata": {},
   "outputs": [],
   "source": [
    "def compute_mean(list):\n",
    "    # input for compute_mean must be a numerical list\n",
    "    #list = []\n",
    "    answer = np.mean(list)\n",
    "    print(answer)"
   ]
  },
  {
   "cell_type": "code",
   "execution_count": 17,
   "id": "5cd3e4c4-87a9-431e-b267-97044ecf8fc4",
   "metadata": {},
   "outputs": [
    {
     "name": "stdout",
     "output_type": "stream",
     "text": [
      "5.0\n"
     ]
    }
   ],
   "source": [
    "a = [2,4,6,8]\n",
    "compute_mean(a)"
   ]
  },
  {
   "cell_type": "markdown",
   "id": "c8684f24-9aa8-4a2a-ab36-158900d68472",
   "metadata": {},
   "source": [
    "\\Epsilon"
   ]
  },
  {
   "cell_type": "code",
   "execution_count": null,
   "id": "8c94cb38-c766-409b-b3c0-80f83da73f86",
   "metadata": {},
   "outputs": [],
   "source": []
  }
 ],
 "metadata": {
  "kernelspec": {
   "display_name": "Python [conda env:env-07]",
   "language": "python",
   "name": "conda-env-env-07-py"
  },
  "language_info": {
   "codemirror_mode": {
    "name": "ipython",
    "version": 3
   },
   "file_extension": ".py",
   "mimetype": "text/x-python",
   "name": "python",
   "nbconvert_exporter": "python",
   "pygments_lexer": "ipython3",
   "version": "3.12.0"
  }
 },
 "nbformat": 4,
 "nbformat_minor": 5
}
