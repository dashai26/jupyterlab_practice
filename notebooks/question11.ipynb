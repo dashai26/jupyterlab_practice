{
 "cells": [
  {
   "cell_type": "markdown",
   "id": "daf00b66-caf4-4594-ac13-1d30e70d4c88",
   "metadata": {},
   "source": [
    "# Daria Iskakova"
   ]
  },
  {
   "cell_type": "markdown",
   "id": "61765647-9d15-4000-a4aa-00e68ef2693c",
   "metadata": {},
   "source": [
    "Notebook for assignment 7"
   ]
  },
  {
   "cell_type": "code",
   "execution_count": 1,
   "id": "b29ea6c8-d3db-429c-a006-b1fc368ccb78",
   "metadata": {},
   "outputs": [],
   "source": [
    "import numpy as np"
   ]
  },
  {
   "cell_type": "code",
   "execution_count": 2,
   "id": "cacf325f-71ef-478e-b318-3597db100d81",
   "metadata": {},
   "outputs": [
    {
     "name": "stdout",
     "output_type": "stream",
     "text": [
      "5.0\n"
     ]
    }
   ],
   "source": [
    "def compute_mean(list):\n",
    "    # input for compute_mean must be a numerical list\n",
    "    answer = np.mean(list)\n",
    "    print(answer)\n",
    "\n",
    "a = [2,4,6,8]\n",
    "compute_mean(a)"
   ]
  },
  {
   "cell_type": "markdown",
   "id": "d7393623-d233-410f-acae-fb5901052718",
   "metadata": {},
   "source": [
    "$$ \\overline{\\rm x} = \\frac{x_1 + x_2 + ... + x_n}{n} = \\frac{1}{n} ( \\, \\sum_{i=1}^n x_i ) \\, $$"
   ]
  },
  {
   "cell_type": "markdown",
   "id": "e739e3f4-bac0-4231-9152-e6da2611461f",
   "metadata": {},
   "source": [
    "### References:\n",
    "1. LaTeX mathematics cheat sheet [Internet]. David Hamann. 2017 [cited 2023 Dec 5]. Available from: https://davidhamann.de/2017/06/12/latex-cheat-sheet/\r\n",
    "2. List of LaTeX mathematical symbols - OeisWiki [Internet]. Oeis.org. 2016. Available from: https://oeis.org/wiki/List_of_LaTeX_mathematical_symbols\r\n",
    "3. Subscripts and superscripts [Internet]. www.overleaf.com. Available from: https://www.overleaf.com/learn/latex/Subscripts_and_superscripts‌‌‌"
   ]
  }
 ],
 "metadata": {
  "kernelspec": {
   "display_name": "Python [conda env:env-07]",
   "language": "python",
   "name": "conda-env-env-07-py"
  },
  "language_info": {
   "codemirror_mode": {
    "name": "ipython",
    "version": 3
   },
   "file_extension": ".py",
   "mimetype": "text/x-python",
   "name": "python",
   "nbconvert_exporter": "python",
   "pygments_lexer": "ipython3",
   "version": "3.12.0"
  }
 },
 "nbformat": 4,
 "nbformat_minor": 5
}
